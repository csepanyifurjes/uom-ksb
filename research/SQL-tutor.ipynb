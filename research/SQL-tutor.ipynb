{
 "cells": [
  {
   "cell_type": "code",
   "execution_count": 2,
   "id": "6285d7dd-9f3c-4c33-ac22-f662ac3e1973",
   "metadata": {},
   "outputs": [],
   "source": [
    "instructions = ['Insert the missing statement to', 'Write a statement that will', 'Create a statement that will']\n",
    "selects = ['get', 'select']\n",
    "select_lists = ['the {}', 'the {} column']\n",
    "froms = ['from the']\n",
    "table_references = ['{} table']\n",
    "\n",
    "import random\n",
    "\n",
    "def getInstruction():\n",
    "    return random.choice(instructions)\n",
    "\n",
    "def getSelect():\n",
    "    return random.choice(selects)\n",
    "\n",
    "def getSelectList(select_list):\n",
    "    ret = random.choice(select_lists)\n",
    "    return(ret.replace('{}', select_list))\n",
    "    \n",
    "def getFrom():\n",
    "    return random.choice(froms)\n",
    "\n",
    "def getTableReference(table_reference):\n",
    "    ret = random.choice(table_references)\n",
    "    return(ret.replace('{}', table_reference))\n"
   ]
  },
  {
   "cell_type": "code",
   "execution_count": 4,
   "id": "35d07be2-278a-44ee-a016-4bfbfeaa6da5",
   "metadata": {},
   "outputs": [
    {
     "name": "stdout",
     "output_type": "stream",
     "text": [
      "Create a statement that will get the City column from the Customers table\n",
      "Insert the missing statement to select the City from the Customers table\n",
      "Insert the missing statement to select the City from the Customers table\n",
      "Create a statement that will get the City from the Customers table\n",
      "Insert the missing statement to select the City column from the Customers table\n"
     ]
    }
   ],
   "source": [
    "# SELECT City FROM Customers\n",
    "\n",
    "SELECT = 'SELECT'\n",
    "select_list = 'City'\n",
    "FROM = 'FROM'\n",
    "table_reference = 'Customers'\n",
    "\n",
    "\n",
    "for i in range(5):\n",
    "    statement = getInstruction() + ' ' + getSelect() + ' ' + getSelectList(select_list) + ' ' + getFrom() + ' ' + getTableReference(table_reference)\n",
    "    print(statement)\n",
    "\n",
    "\n",
    "\n"
   ]
  },
  {
   "cell_type": "code",
   "execution_count": null,
   "id": "0e772132-7e57-4708-9003-6b929bc3d79e",
   "metadata": {},
   "outputs": [],
   "source": [
    "!pip3 install jupyterlab_widgets\n",
    "!pip3 install ipywidgets"
   ]
  },
  {
   "cell_type": "code",
   "execution_count": null,
   "id": "0a8dbbb5-4a51-40bf-abb9-399ec08d31a0",
   "metadata": {},
   "outputs": [],
   "source": [
    "!pip install sentence_transformers"
   ]
  },
  {
   "cell_type": "code",
   "execution_count": 5,
   "id": "d85018db-b907-442f-8885-203779fd96ed",
   "metadata": {},
   "outputs": [
    {
     "name": "stdout",
     "output_type": "stream",
     "text": [
      "Sentence 1: Write a statement that will get the City column from the Customers table\n",
      "Sentence 2: Create a statement that will get the City from the Customers table\n",
      "Similarity score: 0.8081517219543457\n",
      "CPU times: user 6.58 s, sys: 5.46 s, total: 12 s\n",
      "Wall time: 1min 23s\n"
     ]
    }
   ],
   "source": [
    "%%time\n",
    "# Semantic sentence similarity\n",
    "# https://towardsdatascience.com/semantic-similarity-using-transformers-8f3cb5bf66d6\n",
    "\n",
    "from sentence_transformers import SentenceTransformer, util\n",
    "import numpy as np\n",
    "\n",
    "# A feladat lehetne egy olyan modell készítése, amely ezt a két mondatot megegyezőnek/nagyon közelinek találná\n",
    "model = SentenceTransformer('stsb-roberta-large')\n",
    "\n",
    "sentence1 = \"Write a statement that will get the City column from the Customers table\"\n",
    "sentence2 = \"Create a statement that will get the City from the Customers table\"\n",
    "# encode sentences to get their embeddings\n",
    "embedding1 = model.encode(sentence1, convert_to_tensor=True)\n",
    "embedding2 = model.encode(sentence2, convert_to_tensor=True)\n",
    "# compute similarity scores of two embeddings\n",
    "cosine_scores = util.pytorch_cos_sim(embedding1, embedding2)\n",
    "print(\"Sentence 1:\", sentence1)\n",
    "print(\"Sentence 2:\", sentence2)\n",
    "print(\"Similarity score:\", cosine_scores.item())\n"
   ]
  },
  {
   "cell_type": "code",
   "execution_count": null,
   "id": "a0dad50a-f280-4de5-a9ef-0e8e3af750fd",
   "metadata": {},
   "outputs": [],
   "source": []
  }
 ],
 "metadata": {
  "kernelspec": {
   "display_name": "Python 3",
   "language": "python",
   "name": "python3"
  },
  "language_info": {
   "codemirror_mode": {
    "name": "ipython",
    "version": 3
   },
   "file_extension": ".py",
   "mimetype": "text/x-python",
   "name": "python",
   "nbconvert_exporter": "python",
   "pygments_lexer": "ipython3",
   "version": "3.8.11"
  }
 },
 "nbformat": 4,
 "nbformat_minor": 5
}
